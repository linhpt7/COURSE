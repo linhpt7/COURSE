{
 "cells": [
  {
   "cell_type": "markdown",
   "metadata": {},
   "source": [
    "## Bài 1\n",
    "Cho 1 list dưới đây:\\\n",
    "`[python, java, tableau, eviews, matlab, sql, excel, data, analytic, science]`\n",
    "\n",
    "Tìm tất cả các từ có số chữ cái lớn hơn 5 trong list trên và in ra dưới dạng 1 tuple"
   ]
  },
  {
   "cell_type": "code",
   "execution_count": 1,
   "metadata": {},
   "outputs": [
    {
     "data": {
      "text/plain": [
       "['python', 'tableau', 'eviews', 'matlab', 'analytic', 'science']"
      ]
     },
     "execution_count": 1,
     "metadata": {},
     "output_type": "execute_result"
    }
   ],
   "source": [
    "data = ['python', 'java', 'tableau', 'eviews', 'matlab',\n",
    "        'sql', 'excel', 'data', 'analytic', 'science']\n",
    "result = []\n",
    "for i in data:\n",
    "    if len(i) > 5:\n",
    "        result.append(i)\n",
    "result = tuple(result)        \n",
    "result"
   ]
  },
  {
   "cell_type": "markdown",
   "metadata": {},
   "source": [
    "## Bài 2\n",
    "2 lần đánh giá kỹ năng của các chuyên viên Phân tích Dữ liệu thu được kết quả dưới dạng dictionary như dưới đây. Hãy tạo dictionary mới cập nhật tất cả kỹ năng mỗi người. Nếu một kỹ năng được test nhiều lần sẽ lấy kết quả sau cùng."
   ]
  },
  {
   "cell_type": "code",
   "execution_count": 1,
   "metadata": {},
   "outputs": [],
   "source": [
    "test1 = {\n",
    "    'Kevin': {'Statistics': 1, 'Python': 3, 'R': 1},\n",
    "    'Wayne': {'Statistics': 2, 'SQL': 4, 'Tableau': 3}\n",
    "}\n",
    "\n",
    "test2 = {\n",
    "    'Kevin': {'Statistics': 3, 'R': 2, 'SQL': 3},\n",
    "    'Wayne': {'R': 3},\n",
    "    'Aaron': {'Statistics': 4, 'Python': 5, 'SQL': 4, 'Machine Learning': 3}\n",
    "}"
   ]
  },
  {
   "cell_type": "code",
   "execution_count": 4,
   "metadata": {},
   "outputs": [
    {
     "data": {
      "text/plain": [
       "{'Kevin': {'Statistics': 3, 'Python': 3, 'R': 2, 'SQL': 3},\n",
       " 'Wayne': {'Statistics': 2, 'SQL': 4, 'Tableau': 3, 'R': 3},\n",
       " 'Aaron': {'Statistics': 4, 'Python': 5, 'SQL': 4, 'Machine Learning': 3}}"
      ]
     },
     "execution_count": 4,
     "metadata": {},
     "output_type": "execute_result"
    }
   ],
   "source": [
    "for key in test2.keys():\n",
    "    if key in test1.keys():\n",
    "        test1[key].update(test2[key])\n",
    "    else:\n",
    "        test1[key] = test2[key]\n",
    "\n",
    "result = test1\n",
    "result"
   ]
  },
  {
   "cell_type": "markdown",
   "metadata": {},
   "source": [
    "## Bài 3\n",
    "Cho dictionary `my_dict`. Hãy cập nhật thêm key cho `my_dict` từ `raw_dict` và `raw_list`. Sau đó sửa value của `my_dict` thành độ dài của key tương ứng."
   ]
  },
  {
   "cell_type": "code",
   "execution_count": 26,
   "metadata": {},
   "outputs": [],
   "source": [
    "my_dict = {\n",
    "    'Python': None,\n",
    "    'Anaconda': None,\n",
    "    'TabularData': None,\n",
    "    'PyCharm': None\n",
    "}\n",
    "\n",
    "raw_dict = {\n",
    "    'Statistics': None,\n",
    "    'LinearAlgebra': None,\n",
    "    'Tableau': None\n",
    "}\n",
    "\n",
    "raw_list = ['PowerBI', 'R', 'MachineLearning', 'DeepLearning']"
   ]
  },
  {
   "cell_type": "code",
   "execution_count": 29,
   "metadata": {},
   "outputs": [
    {
     "data": {
      "text/plain": [
       "{'Python': 6,\n",
       " 'Anaconda': 8,\n",
       " 'TabularData': 11,\n",
       " 'PyCharm': 7,\n",
       " 'Statistics': 10,\n",
       " 'LinearAlgebra': 13,\n",
       " 'Tableau': 7,\n",
       " 'PowerBI': 7,\n",
       " 'R': 1,\n",
       " 'MachineLearning': 15,\n",
       " 'DeepLearning': 12}"
      ]
     },
     "execution_count": 29,
     "metadata": {},
     "output_type": "execute_result"
    }
   ],
   "source": [
    "my_dict.update(raw_dict)\n",
    "\n",
    "for i in my_dict.keys():\n",
    "    my_dict[i] = len(i)\n",
    "\n",
    "for i in raw_list:\n",
    "    my_dict[i] = len(i)\n",
    "    \n",
    "my_dict"
   ]
  },
  {
   "cell_type": "markdown",
   "metadata": {},
   "source": [
    "## Bài 4\n",
    "Cho đoạn văn bản dưới đây. Hãy tạo ra một dictinary trong đó key là danh sách các từ (không viết hoa, sắp xếp theo alphabet), value là số lần xuất hiện của từ đó."
   ]
  },
  {
   "cell_type": "code",
   "execution_count": 24,
   "metadata": {},
   "outputs": [],
   "source": [
    "text = '''Python is an interpreted, high-level, general-purpose programming language. Created by Guido van Rossum and first released in 1991, Python is design philosophy emphasizes code readability with its notable use of significant whitespace. Its language constructs and object-oriented approach aim to help programmers write clear, logical code for small and large-scale projects.'''"
   ]
  },
  {
   "cell_type": "code",
   "execution_count": 25,
   "metadata": {},
   "outputs": [
    {
     "data": {
      "text/plain": [
       "{'aim': 1,\n",
       " 'an': 8,\n",
       " 'and': 3,\n",
       " 'approach': 1,\n",
       " 'by': 1,\n",
       " 'clear': 1,\n",
       " 'code': 2,\n",
       " 'constructs': 1,\n",
       " 'created': 1,\n",
       " 'design': 1,\n",
       " 'emphasizes': 1,\n",
       " 'first': 1,\n",
       " 'for': 1,\n",
       " 'general': 1,\n",
       " 'guido': 1,\n",
       " 'help': 1,\n",
       " 'high': 1,\n",
       " 'in': 3,\n",
       " 'interpreted': 1,\n",
       " 'is': 2,\n",
       " 'its': 2,\n",
       " 'language': 2,\n",
       " 'large': 1,\n",
       " 'level': 1,\n",
       " 'logical': 1,\n",
       " 'notable': 1,\n",
       " 'object': 1,\n",
       " 'of': 1,\n",
       " 'oriented': 1,\n",
       " 'philosophy': 1,\n",
       " 'programmers': 1,\n",
       " 'programming': 1,\n",
       " 'projects': 1,\n",
       " 'purpose': 1,\n",
       " 'python': 2,\n",
       " 'readability': 1,\n",
       " 'released': 1,\n",
       " 'rossum': 1,\n",
       " 'scale': 1,\n",
       " 'significant': 1,\n",
       " 'small': 1,\n",
       " 'to': 1,\n",
       " 'use': 1,\n",
       " 'van': 1,\n",
       " 'whitespace': 1,\n",
       " 'with': 1,\n",
       " 'write': 1}"
      ]
     },
     "execution_count": 25,
     "metadata": {},
     "output_type": "execute_result"
    }
   ],
   "source": [
    "word_list = ''\n",
    "text = text.lower()\n",
    "\n",
    "for i in text:\n",
    "    if i.isalpha() or i==' ':\n",
    "        word_list += i\n",
    "    if i=='-':\n",
    "        word_list += ' '\n",
    "\n",
    "word_list = word_list.split()\n",
    "word_list = sorted(word_list)\n",
    "\n",
    "output = {}\n",
    "for i in word_list:\n",
    "    output[i] = text.count(i)\n",
    "output"
   ]
  },
  {
   "cell_type": "markdown",
   "metadata": {},
   "source": [
    "## Bài 5\n",
    "Cho 2 list sau (đang sắp xếp theo alphabet). Viết một chương trình sắp xếp được cả 2 list này theo yêu cầu sau:\n",
    "- `age_ranges`: sắp xếp theo độ tuổi tăng dần\n",
    "- `packages`: sắp xếp theo đơn giá tăng dần và khối lượng tăng dần"
   ]
  },
  {
   "cell_type": "code",
   "execution_count": 2,
   "metadata": {},
   "outputs": [],
   "source": [
    "age_ranges = [\n",
    "    '0-2 years old',\n",
    "    '100 years and above',\n",
    "    '11-14 years old',\n",
    "    '15-17 years old',\n",
    "    '18-21 years old',\n",
    "    '22-29 years old',\n",
    "    '3-5 years old',\n",
    "    '30-39 years old',\n",
    "    '40-49 years old',\n",
    "    '50-59 years old',\n",
    "    '6-10 years old',\n",
    "    '60-69 years old',\n",
    "    '70-79 years old',\n",
    "    '80-99 years old'\n",
    "]"
   ]
  },
  {
   "cell_type": "code",
   "execution_count": 4,
   "metadata": {},
   "outputs": [],
   "source": [
    "packages = [\n",
    "    '10 USD/kg x 0.5 kg',\n",
    "    '10 USD/kg x 0.7 kg',\n",
    "    '10 USD/kg x 0.75 kg',\n",
    "    '10 USD/kg x 1 kg',\n",
    "    '10 USD/kg x 1.5 kg',\n",
    "    '10 USD/kg x 15 kg',\n",
    "    '10 USD/kg x 2 kg',\n",
    "    '10 USD/kg x 20 kg',\n",
    "    '10 USD/kg x 5 kg',\n",
    "    '2 USD/kg x 5 kg',\n",
    "    '6 USD/kg x 1 kg',\n",
    "    '6 USD/kg x 1.3 kg',\n",
    "    '6 USD/kg x 2 kg'\n",
    "]"
   ]
  },
  {
   "cell_type": "code",
   "execution_count": 6,
   "metadata": {},
   "outputs": [],
   "source": [
    "def number_extract(x):\n",
    "    output = ''\n",
    "    for i in range(len(x)):\n",
    "        if x[i].isdigit():\n",
    "            output += x[i]\n",
    "        elif (x[i]=='.' or x[i]==',') and x[i-1].isdigit():\n",
    "            output += '.'\n",
    "        else:\n",
    "            output += ' '\n",
    "    print(output)\n",
    "    numbers = output.split()\n",
    "    numbers = [float(i) for i in numbers]\n",
    "    return tuple(numbers)"
   ]
  },
  {
   "cell_type": "code",
   "execution_count": 8,
   "metadata": {},
   "outputs": [
    {
     "data": {
      "text/plain": [
       "['0-2 years old',\n",
       " '3-5 years old',\n",
       " '6-10 years old',\n",
       " '11-14 years old',\n",
       " '15-17 years old',\n",
       " '18-21 years old',\n",
       " '22-29 years old',\n",
       " '30-39 years old',\n",
       " '40-49 years old',\n",
       " '50-59 years old',\n",
       " '60-69 years old',\n",
       " '70-79 years old',\n",
       " '80-99 years old',\n",
       " '100 years and above']"
      ]
     },
     "execution_count": 8,
     "metadata": {},
     "output_type": "execute_result"
    }
   ],
   "source": [
    "sorted(age_ranges, key=number_extract)"
   ]
  },
  {
   "cell_type": "code",
   "execution_count": 9,
   "metadata": {},
   "outputs": [
    {
     "data": {
      "text/plain": [
       "['2 USD/kg x 5 kg',\n",
       " '6 USD/kg x 1 kg',\n",
       " '6 USD/kg x 1.3 kg',\n",
       " '6 USD/kg x 2 kg',\n",
       " '10 USD/kg x 0.5 kg',\n",
       " '10 USD/kg x 0.7 kg',\n",
       " '10 USD/kg x 0.75 kg',\n",
       " '10 USD/kg x 1 kg',\n",
       " '10 USD/kg x 1.5 kg',\n",
       " '10 USD/kg x 2 kg',\n",
       " '10 USD/kg x 5 kg',\n",
       " '10 USD/kg x 15 kg',\n",
       " '10 USD/kg x 20 kg']"
      ]
     },
     "execution_count": 9,
     "metadata": {},
     "output_type": "execute_result"
    }
   ],
   "source": [
    "sorted(packages, key=number_extract)"
   ]
  }
 ],
 "metadata": {
  "kernelspec": {
   "display_name": "Python 3",
   "language": "python",
   "name": "python3"
  },
  "language_info": {
   "codemirror_mode": {
    "name": "ipython",
    "version": 3
   },
   "file_extension": ".py",
   "mimetype": "text/x-python",
   "name": "python",
   "nbconvert_exporter": "python",
   "pygments_lexer": "ipython3",
   "version": "3.7.4"
  }
 },
 "nbformat": 4,
 "nbformat_minor": 4
}
