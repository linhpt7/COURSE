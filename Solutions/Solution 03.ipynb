{
 "cells": [
  {
   "cell_type": "markdown",
   "metadata": {},
   "source": [
    "## Bài 1\n",
    "Cho một string chứa các từ sau:\\\n",
    "`'python,matlab,tableau,orange,jupyter,data,statistics,stata,linear algebra'`.\n",
    "\n",
    "Hãy tạo ra string mới sắp xếp theo alphabet.\\\n",
    "Kết quả có dạng: `'data, jupyter, linear algebra,...'`"
   ]
  },
  {
   "cell_type": "code",
   "execution_count": 1,
   "metadata": {},
   "outputs": [
    {
     "data": {
      "text/plain": [
       "'data, jupyter, linear algebra, matlab, orange, python, stata, statistics, tableau'"
      ]
     },
     "execution_count": 1,
     "metadata": {},
     "output_type": "execute_result"
    }
   ],
   "source": [
    "string = 'python,matlab,tableau,orange,jupyter,data,statistics,stata,linear algebra'\n",
    "\n",
    "words = string.split(',')\n",
    "words = sorted(words)\n",
    "', '.join(words)"
   ]
  },
  {
   "cell_type": "markdown",
   "metadata": {},
   "source": [
    "## Bài 2\n",
    "\n",
    "Cho 3 chuỗi dưới đây:\\\n",
    "`'pham quang hung 0123.456.789'`  \n",
    "`'pham_quang_hung 0123456789'`  \n",
    "`'PHAM QUANG HUNG_0123 456 789'`  \n",
    "\n",
    "Viết một script xử lý được cả 3 string trên về định dạng:\\\n",
    "**`'Pham Quang Hung's phone is 0123456789'`**"
   ]
  },
  {
   "cell_type": "code",
   "execution_count": 2,
   "metadata": {},
   "outputs": [
    {
     "name": "stdout",
     "output_type": "stream",
     "text": [
      "Pham Quang Hung's phone is 0123456789\n",
      "Pham Quang Hung's phone is 0123456789\n",
      "Pham Quang Hung's phone is 0123456789\n"
     ]
    }
   ],
   "source": [
    "data = [\n",
    "    'pham quang hung 0123.456.789',\n",
    "    'pham_quang_hung 0123456789',\n",
    "    'PHAM QUANG HUNG_0123 456 789'\n",
    "]\n",
    "\n",
    "for text in data:\n",
    "    text = text.replace('_', ' ')\n",
    "    text = text.replace('.', ' ')\n",
    "    text_split = text.split()\n",
    "    \n",
    "    name = ' '.join(word for word in text_split if word.isalpha())\n",
    "    name = name.title()\n",
    "    \n",
    "    phone = ''.join(word for word in text_split if word.isnumeric())\n",
    "\n",
    "    print(f'{name}\\'s phone is {phone}')"
   ]
  },
  {
   "cell_type": "markdown",
   "metadata": {},
   "source": [
    "## Bài 3\n",
    "a. In ra tất cả ngày \"Thứ 6 ngày 13\" theo định dạng `YYYY-MM-DD` từ năm 2000 đến năm 2009.\\\n",
    "b. \"Thứ 6 ngày 13\" tiếp theo là ngày nào?"
   ]
  },
  {
   "cell_type": "code",
   "execution_count": 3,
   "metadata": {},
   "outputs": [
    {
     "name": "stdout",
     "output_type": "stream",
     "text": [
      "2000-10-13 Friday\n",
      "2001-04-13 Friday\n",
      "2001-07-13 Friday\n",
      "2002-09-13 Friday\n",
      "2002-12-13 Friday\n",
      "2003-06-13 Friday\n",
      "2004-02-13 Friday\n",
      "2004-08-13 Friday\n",
      "2005-05-13 Friday\n",
      "2006-01-13 Friday\n",
      "2006-10-13 Friday\n",
      "2007-04-13 Friday\n",
      "2007-07-13 Friday\n",
      "2008-06-13 Friday\n",
      "2009-02-13 Friday\n",
      "2009-03-13 Friday\n",
      "2009-11-13 Friday\n"
     ]
    }
   ],
   "source": [
    "# câu a\n",
    "from datetime import date, timedelta\n",
    "active_date = date(2000, 1, 1)\n",
    "\n",
    "while True:\n",
    "    active_day = active_date.strftime('%d')\n",
    "    active_weekday = active_date.strftime('%A')\n",
    "    \n",
    "    if active_day == '13' and active_weekday == 'Friday':\n",
    "        print(active_date, active_weekday)\n",
    "\n",
    "    if active_date.year > 2009:\n",
    "        break\n",
    "    active_date += timedelta(days=1)"
   ]
  },
  {
   "cell_type": "code",
   "execution_count": 4,
   "metadata": {},
   "outputs": [
    {
     "name": "stdout",
     "output_type": "stream",
     "text": [
      "2020-11-13 Friday\n"
     ]
    }
   ],
   "source": [
    "# câu b\n",
    "from datetime import date, timedelta\n",
    "active_date = date.today()\n",
    "\n",
    "while True:\n",
    "    active_day = active_date.strftime('%d')\n",
    "    active_weekday = active_date.strftime('%A')\n",
    "    \n",
    "    if active_day == '13' and active_weekday == 'Friday':\n",
    "        print(active_date, active_weekday)\n",
    "        break\n",
    "\n",
    "    active_date += timedelta(days=1)"
   ]
  },
  {
   "cell_type": "markdown",
   "metadata": {},
   "source": [
    "## Bài 4\n",
    "In ra tất cả các ngày từ hôm nay đến ngày cuối cùng trong tháng."
   ]
  },
  {
   "cell_type": "code",
   "execution_count": 5,
   "metadata": {},
   "outputs": [
    {
     "name": "stdout",
     "output_type": "stream",
     "text": [
      "2020-06-23\n",
      "2020-06-24\n",
      "2020-06-25\n",
      "2020-06-26\n",
      "2020-06-27\n",
      "2020-06-28\n",
      "2020-06-29\n",
      "2020-06-30\n"
     ]
    }
   ],
   "source": [
    "from datetime import date, timedelta\n",
    "\n",
    "active_date = date.today()\n",
    "active_month = active_date.month\n",
    "\n",
    "while active_month == active_date.month:\n",
    "    print(active_date)\n",
    "    active_date += timedelta(days=1)"
   ]
  },
  {
   "cell_type": "markdown",
   "metadata": {},
   "source": [
    "## Bài 5\n",
    "Viết chương trình gán điểm cho mỗi chữ cái trong bảng chữ cái Tiếng Anh. Nếu a,b,c,d,... tương ứng với 1,2,3,4,... thì từ `attitude` sẽ đạt 100 điểm\n",
    "(https://9gag.com/gag/aWWP7bd?ref=fbp)\n",
    "\n",
    "**Gợi ý**\\\n",
    "`import string`\\\n",
    "`alphabet = list(string.ascii_lowercase)`"
   ]
  },
  {
   "cell_type": "code",
   "execution_count": 6,
   "metadata": {},
   "outputs": [
    {
     "name": "stdout",
     "output_type": "stream",
     "text": [
      "Anaconda = 53\n"
     ]
    }
   ],
   "source": [
    "import string\n",
    "word = 'Anaconda'\n",
    "word_mark = 0\n",
    "\n",
    "alphabet = string.ascii_lowercase\n",
    "for letter in word.lower():\n",
    "    letter_mark = alphabet.index(letter) + 1\n",
    "    word_mark += letter_mark\n",
    "\n",
    "print(f'{word} = {word_mark}')"
   ]
  }
 ],
 "metadata": {
  "kernelspec": {
   "display_name": "Python 3",
   "language": "python",
   "name": "python3"
  },
  "language_info": {
   "codemirror_mode": {
    "name": "ipython",
    "version": 3
   },
   "file_extension": ".py",
   "mimetype": "text/x-python",
   "name": "python",
   "nbconvert_exporter": "python",
   "pygments_lexer": "ipython3",
   "version": "3.7.4"
  }
 },
 "nbformat": 4,
 "nbformat_minor": 4
}
