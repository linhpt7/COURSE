{
 "cells": [
  {
   "cell_type": "markdown",
   "metadata": {},
   "source": [
    "## Bài 1\n",
    "Cho một array 2 chiều.\n",
    "1. Lấy ra 2 dòng đầu tiên của mảng\n",
    "2. Sửa giá trị các phần tử cột thứ 0, 2, 4 thành 10"
   ]
  },
  {
   "cell_type": "code",
   "execution_count": 31,
   "metadata": {},
   "outputs": [
    {
     "data": {
      "text/plain": [
       "array([[5, 0, 3, 3, 7],\n",
       "       [9, 3, 5, 2, 4],\n",
       "       [7, 6, 8, 8, 1],\n",
       "       [6, 7, 7, 8, 1],\n",
       "       [5, 9, 8, 9, 4]])"
      ]
     },
     "execution_count": 31,
     "metadata": {},
     "output_type": "execute_result"
    }
   ],
   "source": [
    "import numpy as np\n",
    "np.random.seed(0)\n",
    "A = np.random.randint(10, size=(5,5))\n",
    "A"
   ]
  },
  {
   "cell_type": "code",
   "execution_count": 32,
   "metadata": {},
   "outputs": [
    {
     "data": {
      "text/plain": [
       "array([[5, 0, 3, 3, 7],\n",
       "       [9, 3, 5, 2, 4]])"
      ]
     },
     "execution_count": 32,
     "metadata": {},
     "output_type": "execute_result"
    }
   ],
   "source": [
    "# task 1\n",
    "A[0:2]"
   ]
  },
  {
   "cell_type": "code",
   "execution_count": 33,
   "metadata": {},
   "outputs": [
    {
     "data": {
      "text/plain": [
       "array([[10,  0, 10,  3, 10],\n",
       "       [10,  3, 10,  2, 10],\n",
       "       [10,  6, 10,  8, 10],\n",
       "       [10,  7, 10,  8, 10],\n",
       "       [10,  9, 10,  9, 10]])"
      ]
     },
     "execution_count": 33,
     "metadata": {},
     "output_type": "execute_result"
    }
   ],
   "source": [
    "# task 2\n",
    "A[:, ::2] =10\n",
    "A"
   ]
  },
  {
   "cell_type": "markdown",
   "metadata": {},
   "source": [
    "## Bài 2\n",
    "Tạo 1 vector ngẫu nhiên chứa 20 phần tử số thập phân, nằm trong khoảng từ -50 đến 50 (dùng `np.random.uniform()`). Hãy làm tròn vector trên về phía 0. Ví dụ: $3.1$ thành $3$, $-5.5$ thành $-5$"
   ]
  },
  {
   "cell_type": "code",
   "execution_count": 1,
   "metadata": {},
   "outputs": [
    {
     "data": {
      "text/plain": [
       "array([  4.88135039,  21.51893664,  10.27633761,   4.4883183 ,\n",
       "        -7.63452007,  14.58941131,  -6.24127887,  39.17730008,\n",
       "        46.36627605, -11.65584812,  29.17250381,   2.88949198,\n",
       "         6.80445611,  42.55966383, -42.89639418, -41.28707003,\n",
       "       -47.97816026,  33.26198455,  27.81567509,  37.00121482])"
      ]
     },
     "execution_count": 1,
     "metadata": {},
     "output_type": "execute_result"
    }
   ],
   "source": [
    "import numpy as np\n",
    "np.random.seed(0)\n",
    "vector = np.random.uniform(-50, 50, 20)\n",
    "vector"
   ]
  },
  {
   "cell_type": "code",
   "execution_count": 4,
   "metadata": {},
   "outputs": [
    {
     "data": {
      "text/plain": [
       "array([  4.,  21.,  10.,   4.,  -7.,  14.,  -6.,  39.,  46., -11.,  29.,\n",
       "         2.,   6.,  42., -42., -41., -47.,  33.,  27.,  37.])"
      ]
     },
     "execution_count": 4,
     "metadata": {},
     "output_type": "execute_result"
    }
   ],
   "source": [
    "np.copysign(np.floor(np.abs(vector)), vector)"
   ]
  },
  {
   "cell_type": "markdown",
   "metadata": {},
   "source": [
    "## Bài 3\n",
    "Tạo vector A ngẫu nhiên kích thước bằng 50 với các phần tử trong khoảng từ -20 đến 20\n",
    "\n",
    "1. Tạo vector B chứa trị tuyệt đối của các phần tử trong vector A\n",
    "2. Chuyển vector B thành ma trận C có kích thước 5x10\n",
    "3. Tìm phần tử lớn nhất, nhỏ nhất của ma trận C\n",
    "4. Tính trung bình, trung vị, phương sai của ma trận C, làm tròn 2 chữ số thập phân.\n",
    "5. Cộng lũy tiến các phần tử trong vector B\n",
    "6. Chuẩn hóa ma trận C bằng cách lấy mỗi phần tử của C trừ đi trung bình rồi chia độ lệch chuẩn."
   ]
  },
  {
   "cell_type": "code",
   "execution_count": 2,
   "metadata": {},
   "outputs": [],
   "source": [
    "import numpy as np"
   ]
  },
  {
   "cell_type": "code",
   "execution_count": 8,
   "metadata": {},
   "outputs": [
    {
     "data": {
      "text/plain": [
       "array([-20, -17, -17,  19, -11,  -1,   1,  16,   3, -14,   4,   4,  -8,\n",
       "       -19,  18,  19,   3,   4,  -3,  17,   5,  -7, -12, -11,   0,  -4,\n",
       "       -15,  -5, -20,  -2,  15,   4,   9,  -1,  -1,  -6,  19,  12, -19,\n",
       "       -11,  12,  11, -10,   3,  15,  -9,   8,  14, -20, -20])"
      ]
     },
     "execution_count": 8,
     "metadata": {},
     "output_type": "execute_result"
    }
   ],
   "source": [
    "np.random.seed(0)\n",
    "A = np.random.randint(-20, 20, size=50)\n",
    "A"
   ]
  },
  {
   "cell_type": "code",
   "execution_count": 10,
   "metadata": {},
   "outputs": [
    {
     "data": {
      "text/plain": [
       "array([20, 17, 17, 19, 11,  1,  1, 16,  3, 14,  4,  4,  8, 19, 18, 19,  3,\n",
       "        4,  3, 17,  5,  7, 12, 11,  0,  4, 15,  5, 20,  2, 15,  4,  9,  1,\n",
       "        1,  6, 19, 12, 19, 11, 12, 11, 10,  3, 15,  9,  8, 14, 20, 20])"
      ]
     },
     "execution_count": 10,
     "metadata": {},
     "output_type": "execute_result"
    }
   ],
   "source": [
    "# task 1\n",
    "B = np.abs(A)\n",
    "B"
   ]
  },
  {
   "cell_type": "code",
   "execution_count": 11,
   "metadata": {},
   "outputs": [
    {
     "data": {
      "text/plain": [
       "array([[20, 17, 17, 19, 11,  1,  1, 16,  3, 14],\n",
       "       [ 4,  4,  8, 19, 18, 19,  3,  4,  3, 17],\n",
       "       [ 5,  7, 12, 11,  0,  4, 15,  5, 20,  2],\n",
       "       [15,  4,  9,  1,  1,  6, 19, 12, 19, 11],\n",
       "       [12, 11, 10,  3, 15,  9,  8, 14, 20, 20]])"
      ]
     },
     "execution_count": 11,
     "metadata": {},
     "output_type": "execute_result"
    }
   ],
   "source": [
    "# task 2\n",
    "C = B.reshape(5, 10)\n",
    "C"
   ]
  },
  {
   "cell_type": "code",
   "execution_count": 12,
   "metadata": {},
   "outputs": [
    {
     "name": "stdout",
     "output_type": "stream",
     "text": [
      "Min of C = 0\n",
      "Max of C = 20\n"
     ]
    }
   ],
   "source": [
    "# task 3\n",
    "print(f'Min of C = {C.min()}')\n",
    "print(f'Max of C = {C.max()}')"
   ]
  },
  {
   "cell_type": "code",
   "execution_count": 17,
   "metadata": {},
   "outputs": [
    {
     "name": "stdout",
     "output_type": "stream",
     "text": [
      "Mean of C = 10.36\n",
      "Variance of C = 42.35\n",
      "Median of C = 11.00\n"
     ]
    }
   ],
   "source": [
    "# task 4\n",
    "print(f'Mean of C = {C.mean():.2f}')\n",
    "print(f'Variance of C = {C.var():.2f}')\n",
    "print(f'Median of C = {np.median(C):.2f}')"
   ]
  },
  {
   "cell_type": "code",
   "execution_count": 28,
   "metadata": {},
   "outputs": [
    {
     "data": {
      "text/plain": [
       "array([ 20,  37,  54,  73,  84,  85,  86, 102, 105, 119, 123, 127, 135,\n",
       "       154, 172, 191, 194, 198, 201, 218, 223, 230, 242, 253, 253, 257,\n",
       "       272, 277, 297, 299, 314, 318, 327, 328, 329, 335, 354, 366, 385,\n",
       "       396, 408, 419, 429, 432, 447, 456, 464, 478, 498, 518], dtype=int32)"
      ]
     },
     "execution_count": 28,
     "metadata": {},
     "output_type": "execute_result"
    }
   ],
   "source": [
    "# task 5\n",
    "np.cumsum(B)"
   ]
  },
  {
   "cell_type": "code",
   "execution_count": 36,
   "metadata": {},
   "outputs": [
    {
     "data": {
      "text/plain": [
       "array([[ 1.48131792,  1.02032686,  1.02032686,  1.32765423,  0.09834476,\n",
       "        -1.43829208, -1.43829208,  0.86666318, -1.13096472,  0.55933581],\n",
       "       [-0.97730103, -0.97730103, -0.36264629,  1.32765423,  1.17399055,\n",
       "         1.32765423, -1.13096472, -0.97730103, -1.13096472,  1.02032686],\n",
       "       [-0.82363735, -0.51630998,  0.25200844,  0.09834476, -1.59195577,\n",
       "        -0.97730103,  0.7129995 , -0.82363735,  1.48131792, -1.2846284 ],\n",
       "       [ 0.7129995 , -0.97730103, -0.20898261, -1.43829208, -1.43829208,\n",
       "        -0.66997366,  1.32765423,  0.25200844,  1.32765423,  0.09834476],\n",
       "       [ 0.25200844,  0.09834476, -0.05531893, -1.13096472,  0.7129995 ,\n",
       "        -0.20898261, -0.36264629,  0.55933581,  1.48131792,  1.48131792]])"
      ]
     },
     "execution_count": 36,
     "metadata": {},
     "output_type": "execute_result"
    }
   ],
   "source": [
    "# task 6\n",
    "(C - C.mean()) / C.std()"
   ]
  },
  {
   "cell_type": "markdown",
   "metadata": {},
   "source": [
    "## Bài 4\n",
    "Tạo ra 1 ma trận 8x8 với các phần tử 0 và 1 xen kẽ nhau."
   ]
  },
  {
   "cell_type": "code",
   "execution_count": 35,
   "metadata": {},
   "outputs": [
    {
     "name": "stdout",
     "output_type": "stream",
     "text": [
      "[[0 1 0 1 0 1 0 1]\n",
      " [1 0 1 0 1 0 1 0]\n",
      " [0 1 0 1 0 1 0 1]\n",
      " [1 0 1 0 1 0 1 0]\n",
      " [0 1 0 1 0 1 0 1]\n",
      " [1 0 1 0 1 0 1 0]\n",
      " [0 1 0 1 0 1 0 1]\n",
      " [1 0 1 0 1 0 1 0]]\n"
     ]
    }
   ],
   "source": [
    "import numpy as np\n",
    "x = np.zeros((8,8), dtype=int)\n",
    "x[1::2, ::2] = 1\n",
    "x[::2, 1::2] = 1\n",
    "print(x)"
   ]
  },
  {
   "cell_type": "markdown",
   "metadata": {},
   "source": [
    "## Bài 5\n",
    "Tạo một vector ngẫu nhiên có kích thước bằng 10 và thay thế phần tử lớn nhất bằng 0."
   ]
  },
  {
   "cell_type": "code",
   "execution_count": 41,
   "metadata": {},
   "outputs": [
    {
     "name": "stdout",
     "output_type": "stream",
     "text": [
      "[0.83230823 0.46400219 0.33891652 0.1681727  0.6224092  0.90536451\n",
      " 0.2568816  0.         0.21029685 0.35491044]\n"
     ]
    }
   ],
   "source": [
    "import numpy as np\n",
    "vector = np.random.random(10)\n",
    "vector[vector.argmax()] = 0\n",
    "print(vector)"
   ]
  }
 ],
 "metadata": {
  "kernelspec": {
   "display_name": "Python 3",
   "language": "python",
   "name": "python3"
  },
  "language_info": {
   "codemirror_mode": {
    "name": "ipython",
    "version": 3
   },
   "file_extension": ".py",
   "mimetype": "text/x-python",
   "name": "python",
   "nbconvert_exporter": "python",
   "pygments_lexer": "ipython3",
   "version": "3.7.4"
  }
 },
 "nbformat": 4,
 "nbformat_minor": 4
}
