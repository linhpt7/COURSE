{
 "cells": [
  {
   "cell_type": "markdown",
   "metadata": {
    "colab_type": "text",
    "id": "zFiDBnuS9gKL"
   },
   "source": [
    "## Bài 1\n",
    "Một hộp có $n$ quả cầu trắng và 5 quả cầu đen ($n$ nguyên dương). Lấy ngẫu nhiên lần lượt 2 quả cầu, biết quả đầu tiên màu trắng.\\\n",
    "Viết chương trình liệt kê các xác suất để quả cầu thứ hai là trắng với $n$ chạy từ 1 đến 5."
   ]
  },
  {
   "cell_type": "code",
   "execution_count": null,
   "metadata": {
    "colab": {},
    "colab_type": "code",
    "id": "zEpPeTmu9gKM",
    "outputId": "0893b358-3107-46d0-c30d-cbd4e5cfd418"
   },
   "outputs": [
    {
     "name": "stdout",
     "output_type": "stream",
     "text": [
      "Xác suất để quả thứ 2 trắng nếu có 1 quả trắng là 0.0\n",
      "Xác suất để quả thứ 2 trắng nếu có 2 quả trắng là 0.1667\n",
      "Xác suất để quả thứ 2 trắng nếu có 3 quả trắng là 0.2857\n",
      "Xác suất để quả thứ 2 trắng nếu có 4 quả trắng là 0.375\n",
      "Xác suất để quả thứ 2 trắng nếu có 5 quả trắng là 0.4444\n"
     ]
    }
   ],
   "source": [
    "for n in range(1,6):\n",
    "    black = 5\n",
    "    white = n - 1\n",
    "    total = black + white\n",
    "    p = white/total\n",
    "    p = round(p, 4)\n",
    "    print('Xác suất để quả thứ 2 trắng nếu có', n, 'quả trắng là', p)"
   ]
  },
  {
   "cell_type": "markdown",
   "metadata": {
    "colab_type": "text",
    "id": "_HTOT7e89gKS"
   },
   "source": [
    "## Bài 2\n",
    "Viết chương trình giải phương trình bậc hai: $ax^2 + bx + c = 0$.\\\n",
    "(Làm tròn kết quả với 2 chữ số sau dấu phẩy)"
   ]
  },
  {
   "cell_type": "code",
   "execution_count": null,
   "metadata": {
    "colab": {},
    "colab_type": "code",
    "id": "XArCHZ9X9gKT",
    "outputId": "02e549b5-6d22-4b56-c381-c1d9581b9fd7"
   },
   "outputs": [
    {
     "name": "stdout",
     "output_type": "stream",
     "text": [
      "There are 2 solutions: x = 1.0 and x = 2.0\n"
     ]
    }
   ],
   "source": [
    "from math import sqrt\n",
    "\n",
    "a = 1\n",
    "b = -3\n",
    "c = 2\n",
    "\n",
    "if a == 0:\n",
    "    if b == 0:\n",
    "        if c == 0:\n",
    "            print('Every number is a solution')\n",
    "        if c != 0:\n",
    "            print('The equation is consistent')\n",
    "    if b!= 0:\n",
    "        solution = -c/b\n",
    "        solution = round(solution, 2)\n",
    "        print('There is 1 solution: x =', solution)\n",
    "if a != 0:\n",
    "    delta = b**2 - 4*a*c\n",
    "    if delta > 0:\n",
    "        solution_1 = (-b - sqrt(delta))/(2*a)\n",
    "        solution_2 = (-b + sqrt(delta))/(2*a)\n",
    "        solution_1 = round(solution_1, 2)\n",
    "        solution_2 = round(solution_2, 2)\n",
    "        print('There are 2 solutions: x =', solution_1, 'and x =', solution_2)\n",
    "    if delta == 0:\n",
    "        solution = -b/(2*a)\n",
    "        print('There is 1 solution: x =', solution)\n",
    "    if delta < 0:\n",
    "        print('The equation is inconsistent')"
   ]
  },
  {
   "cell_type": "markdown",
   "metadata": {
    "colab_type": "text",
    "id": "x0YY1QFa9gKX"
   },
   "source": [
    "## Bài 3\n",
    "Với $x$ và $n$ nguyên cho trước, tính giá trị biểu thức: $S(x,n)=x+x^{3}+x^{5}+...+x^{2n+1}$."
   ]
  },
  {
   "cell_type": "code",
   "execution_count": null,
   "metadata": {
    "colab": {},
    "colab_type": "code",
    "id": "gjHJxBTX9gKY",
    "outputId": "851f33fe-79af-467b-f4b4-5c14a8c79b91"
   },
   "outputs": [
    {
     "name": "stdout",
     "output_type": "stream",
     "text": [
      "S = 2728\n"
     ]
    }
   ],
   "source": [
    "x = 2\n",
    "n = 5\n",
    "\n",
    "S = 0\n",
    "for i in range (1, n+1):\n",
    "    S = S + x**(2*i + 1)\n",
    "print('S =', S)"
   ]
  },
  {
   "cell_type": "markdown",
   "metadata": {
    "colab_type": "text",
    "id": "0N1zjWt-9gKc"
   },
   "source": [
    "## Bài 4 \n",
    "Viết chương trình nhập vào một số nguyên trong khoảng từ 1 đến 5 từ bàn phím (dùng hàm `input()`). Chương trình sẽ chọn ngẫu nhiên 1 số trong khoảng 1-5, bạn thắng nếu số bạn nhập trùng với số ngẫu nhiên được chọn.\n",
    "\n",
    "**Gợi ý:** Cách chọn ra một số ngẫu nhiên trong khoảng $[1;5]$:\\\n",
    "`import random`\\\n",
    "`result = random.randint(1,5)`"
   ]
  },
  {
   "cell_type": "code",
   "execution_count": 3,
   "metadata": {},
   "outputs": [
    {
     "name": "stdin",
     "output_type": "stream",
     "text": [
      "Please choose an integer from 1 to 5\n",
      "Your answer: 6\n"
     ]
    },
    {
     "name": "stdout",
     "output_type": "stream",
     "text": [
      "Condition not met, you lose\n"
     ]
    }
   ],
   "source": [
    "import random\n",
    "result = random.randint(1,5)\n",
    "\n",
    "answer = int(input('Please choose an integer from 1 to 5\\nYour answer:'))\n",
    "\n",
    "if answer >=1 and answer <=5:\n",
    "    if answer == result:\n",
    "        print('The result is', result)\n",
    "        print('Congratulations, you won!')\n",
    "    else:\n",
    "        print('The result is', result)\n",
    "        print('You lose')\n",
    "else:\n",
    "    print('Condition not met, you lose')"
   ]
  },
  {
   "cell_type": "code",
   "execution_count": null,
   "metadata": {
    "colab": {},
    "colab_type": "code",
    "id": "d6HSr47e9gKc",
    "outputId": "3f84c11d-c685-4390-9238-8df9edd3767c"
   },
   "outputs": [
    {
     "name": "stdin",
     "output_type": "stream",
     "text": [
      "Please choose an integer from 1 to 5\n",
      "Your answer: f\n"
     ]
    },
    {
     "name": "stdout",
     "output_type": "stream",
     "text": [
      "Conditions not met\n",
      "\n"
     ]
    },
    {
     "name": "stdin",
     "output_type": "stream",
     "text": [
      "Please choose an integer from 1 to 5\n",
      "Your answer: 10\n"
     ]
    },
    {
     "name": "stdout",
     "output_type": "stream",
     "text": [
      "Conditions not met\n",
      "\n"
     ]
    },
    {
     "name": "stdin",
     "output_type": "stream",
     "text": [
      "Please choose an integer from 1 to 5\n",
      "Your answer: 2\n"
     ]
    },
    {
     "name": "stdout",
     "output_type": "stream",
     "text": [
      "The result is 4\n",
      "You lost\n"
     ]
    }
   ],
   "source": [
    "# advance\n",
    "import random\n",
    "result = random.randint(1,5)\n",
    "\n",
    "while True:\n",
    "    answer = input('Please choose an integer from 1 to 5\\nYour answer:')\n",
    "    if answer.isnumeric():\n",
    "        answer = int(answer)\n",
    "        if answer >= 1 and answer <= 5:\n",
    "            if answer == result:\n",
    "                print('The result is', resul)\n",
    "                print('Congratulations, you won!')\n",
    "\n",
    "            else:\n",
    "                print('The result is', result)\n",
    "                print('You lost')\n",
    "                break\n",
    "        else:\n",
    "            print('Conditions not met')\n",
    "            print('')\n",
    "    else:\n",
    "        print('Conditions not met')\n",
    "        print('')"
   ]
  },
  {
   "cell_type": "markdown",
   "metadata": {
    "colab_type": "text",
    "id": "Pmag_iI6k2HV"
   },
   "source": [
    "## Bài 5\n",
    "Fibonacci là dãy số mà mỗi số bằng tổng của 2 số liền trước nó. 10 số đầu tiên của dãy là: $1, 2, 3, 5, 8, 13, 21, 34, 55, 89,\\dots$\\\n",
    "Hãy tính tổng 20 số đầu tiên trong dãy Fibonacci."
   ]
  },
  {
   "cell_type": "code",
   "execution_count": null,
   "metadata": {
    "colab": {
     "base_uri": "https://localhost:8080/",
     "height": 34
    },
    "colab_type": "code",
    "executionInfo": {
     "elapsed": 908,
     "status": "ok",
     "timestamp": 1561383874185,
     "user": {
      "displayName": "Datapot",
      "photoUrl": "",
      "userId": "11706163551656021893"
     },
     "user_tz": -420
    },
    "id": "MTRkJqIck2HW",
    "outputId": "591131bc-8f8a-4f24-9007-89d123a179c5"
   },
   "outputs": [
    {
     "name": "stdout",
     "output_type": "stream",
     "text": [
      "Sum = 28655\n"
     ]
    }
   ],
   "source": [
    "def fibo(x):\n",
    "    if x == 1:\n",
    "        return 1\n",
    "    if x == 2:\n",
    "        return 2\n",
    "    else:\n",
    "        return fibo(x-1) + fibo(x-2)\n",
    "\n",
    "fibo_sum = 0\n",
    "n = 20\n",
    "for i in range(n):\n",
    "    fibo_sum += fibo(i+1)\n",
    "print('Sum =', fibo_sum)"
   ]
  }
 ],
 "metadata": {
  "colab": {
   "name": "Solution 02.ipynb",
   "provenance": []
  },
  "kernelspec": {
   "display_name": "Python 3",
   "language": "python",
   "name": "python3"
  },
  "language_info": {
   "codemirror_mode": {
    "name": "ipython",
    "version": 3
   },
   "file_extension": ".py",
   "mimetype": "text/x-python",
   "name": "python",
   "nbconvert_exporter": "python",
   "pygments_lexer": "ipython3",
   "version": "3.7.3"
  }
 },
 "nbformat": 4,
 "nbformat_minor": 4
}
