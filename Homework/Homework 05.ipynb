{
 "cells": [
  {
   "cell_type": "markdown",
   "metadata": {},
   "source": [
    "## Bài 1\n",
    "\n",
    "Viết chương trình tính tần suất của các phần tử trong list dưới đây, in ra kết quả dưới dạng dictionary.\\\n",
    "`[100, 30, 20, 100, 30, 200, 30, 20, 50, 600, 20, 20, 100, 50, 600, -15, -10]`"
   ]
  },
  {
   "cell_type": "code",
   "execution_count": null,
   "metadata": {},
   "outputs": [],
   "source": []
  },
  {
   "cell_type": "markdown",
   "metadata": {},
   "source": [
    "## Bài 2\n",
    "Viết một hàm nhận đầu vào là một số nguyên dương và trả về một list chứa các thừa số nguyên tố của nó.\\\n",
    "Ví dụ: `prime_decompose(12)` trả về `[2, 2, 3]`."
   ]
  },
  {
   "cell_type": "code",
   "execution_count": null,
   "metadata": {},
   "outputs": [],
   "source": []
  },
  {
   "cell_type": "markdown",
   "metadata": {},
   "source": [
    "## Bài 3\n",
    "a,b,c là các số nguyên nhỏ hơn 10 ; a + b/c = 10. In ra tất cả các lists `[a, b, c]` thỏa mãn điều kiện trên. Kết quả phải sắp xếp theo thứ tự a giảm dần, sau đó sắp xếp theo b tăng dần và c tăng dần."
   ]
  },
  {
   "cell_type": "code",
   "execution_count": null,
   "metadata": {},
   "outputs": [],
   "source": []
  },
  {
   "cell_type": "markdown",
   "metadata": {},
   "source": [
    "## Bài 4\n",
    "Viết một chương trình nhập vào 2 số nguyên `'x,y'` và tạo ra ma trận A có x dòng và y cột. Giá trị của mỗi phần tử trong ma trận được xác định bằng $A_{i, j}=i \\times j$ với $i \\in \\{1,2,3,...,x\\}$ và $j \\in \\{1,2,3,...,y\\}$."
   ]
  },
  {
   "cell_type": "code",
   "execution_count": null,
   "metadata": {},
   "outputs": [],
   "source": []
  },
  {
   "cell_type": "markdown",
   "metadata": {},
   "source": [
    "## Bài 5\n",
    "Hãy tạo ra tam giác Pascal dưới đây:\\\n",
    "`{`\\\n",
    "`'n=0': [1],`\\\n",
    "`'n=1': [1, 1],`\\\n",
    "`'n=2': [1, 2, 1],`\\\n",
    "`'n=3': [1, 3, 3, 1],`\\\n",
    "`'n=4': [1, 4, 6, 4, 1],`\\\n",
    "`'n=5': [1, 5, 10, 10, 5, 1],`\\\n",
    "`'n=6': [1, 6, 15, 20, 15, 6, 1],`\\\n",
    "`'n=7': [1, 7, 21, 35, 35, 21, 7, 1],`\\\n",
    "`'n=8': [1, 8, 28, 56, 70, 56, 28, 8, 1],`\\\n",
    "`'n=9': [1, 9, 36, 84, 126, 126, 84, 36, 9, 1],`\\\n",
    "`'n=10': [1, 10, 45, 120, 210, 252, 210, 120, 45, 10, 1]`\\\n",
    "`}`  \n",
    "\n",
    "Cho biết 2 dòng đầu:"
   ]
  },
  {
   "cell_type": "code",
   "execution_count": 1,
   "metadata": {},
   "outputs": [],
   "source": [
    "n = 10\n",
    "pascal = {'n=0':[1],\n",
    "          'n=1':[1, 1]}"
   ]
  },
  {
   "cell_type": "code",
   "execution_count": null,
   "metadata": {},
   "outputs": [],
   "source": []
  }
 ],
 "metadata": {
  "kernelspec": {
   "display_name": "Python 3",
   "language": "python",
   "name": "python3"
  },
  "language_info": {
   "codemirror_mode": {
    "name": "ipython",
    "version": 3
   },
   "file_extension": ".py",
   "mimetype": "text/x-python",
   "name": "python",
   "nbconvert_exporter": "python",
   "pygments_lexer": "ipython3",
   "version": "3.7.4"
  }
 },
 "nbformat": 4,
 "nbformat_minor": 4
}
