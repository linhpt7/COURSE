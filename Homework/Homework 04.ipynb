{
 "cells": [
  {
   "cell_type": "markdown",
   "metadata": {},
   "source": [
    "## Bài 1\n",
    "Cho 1 list dưới đây:\\\n",
    "`[python, java, tableau, eviews, matlab, sql, excel, data, analytic, science]`\n",
    "\n",
    "Tìm tất cả các từ có số chữ cái lớn hơn 5 trong list trên và in ra dưới dạng 1 tuple"
   ]
  },
  {
   "cell_type": "code",
   "execution_count": null,
   "metadata": {},
   "outputs": [],
   "source": []
  },
  {
   "cell_type": "markdown",
   "metadata": {},
   "source": [
    "## Bài 2\n",
    "2 lần đánh giá kỹ năng của các chuyên viên Phân tích Dữ liệu thu được kết quả dưới dạng dictionary như dưới đây. Hãy tạo dictionary mới cập nhật tất cả kỹ năng mỗi người. Nếu một kỹ năng được test nhiều lần sẽ lấy kết quả sau cùng."
   ]
  },
  {
   "cell_type": "code",
   "execution_count": 1,
   "metadata": {},
   "outputs": [],
   "source": [
    "test1 = {\n",
    "    'Kevin': {'Statistics': 1, 'Python': 3, 'R': 1},\n",
    "    'Wayne': {'Statistics': 2, 'SQL': 4, 'Tableau': 3}\n",
    "}\n",
    "\n",
    "test2 = {\n",
    "    'Kevin': {'Statistics': 3, 'R': 2, 'SQL': 3},\n",
    "    'Wayne': {'R': 3},\n",
    "    'Aaron': {'Statistics': 4, 'Python': 5, 'SQL': 4, 'Machine Learning': 3}\n",
    "}"
   ]
  },
  {
   "cell_type": "code",
   "execution_count": null,
   "metadata": {},
   "outputs": [],
   "source": []
  },
  {
   "cell_type": "markdown",
   "metadata": {},
   "source": [
    "## Bài 3\n",
    "Cho dictionary `my_dict`. Hãy cập nhật thêm key cho `my_dict` từ `raw_dict` và `raw_list`. Sau đó sửa value của `my_dict` thành độ dài của key tương ứng."
   ]
  },
  {
   "cell_type": "code",
   "execution_count": 26,
   "metadata": {},
   "outputs": [],
   "source": [
    "my_dict = {\n",
    "    'Python': None,\n",
    "    'Anaconda': None,\n",
    "    'TabularData': None,\n",
    "    'PyCharm': None\n",
    "}\n",
    "\n",
    "raw_dict = {\n",
    "    'Statistics': None,\n",
    "    'LinearAlgebra': None,\n",
    "    'Tableau': None\n",
    "}\n",
    "\n",
    "raw_list = ['PowerBI', 'R', 'MachineLearning', 'DeepLearning']"
   ]
  },
  {
   "cell_type": "code",
   "execution_count": null,
   "metadata": {},
   "outputs": [],
   "source": []
  },
  {
   "cell_type": "markdown",
   "metadata": {},
   "source": [
    "## Bài 4\n",
    "Cho đoạn văn bản dưới đây. Hãy tạo ra một dictinary trong đó key là danh sách các từ (không viết hoa, sắp xếp theo alphabet), value là số lần xuất hiện của từ đó."
   ]
  },
  {
   "cell_type": "code",
   "execution_count": 24,
   "metadata": {},
   "outputs": [],
   "source": [
    "text = '''Python is an interpreted, high-level, general-purpose programming language. Created by Guido van Rossum and first released in 1991, Python is design philosophy emphasizes code readability with its notable use of significant whitespace. Its language constructs and object-oriented approach aim to help programmers write clear, logical code for small and large-scale projects.'''"
   ]
  },
  {
   "cell_type": "code",
   "execution_count": null,
   "metadata": {},
   "outputs": [],
   "source": []
  },
  {
   "cell_type": "markdown",
   "metadata": {},
   "source": [
    "## Bài 5\n",
    "Cho 2 list sau (đang sắp xếp theo alphabet). Viết một chương trình sắp xếp được cả 2 list này theo yêu cầu sau:\n",
    "- `age_ranges`: sắp xếp theo độ tuổi tăng dần\n",
    "- `packages`: sắp xếp theo đơn giá tăng dần và khối lượng tăng dần"
   ]
  },
  {
   "cell_type": "code",
   "execution_count": 2,
   "metadata": {},
   "outputs": [],
   "source": [
    "age_ranges = [\n",
    "    '0-2 years old',\n",
    "    '100 years and above',\n",
    "    '11-14 years old',\n",
    "    '15-17 years old',\n",
    "    '18-21 years old',\n",
    "    '22-29 years old',\n",
    "    '3-5 years old',\n",
    "    '30-39 years old',\n",
    "    '40-49 years old',\n",
    "    '50-59 years old',\n",
    "    '6-10 years old',\n",
    "    '60-69 years old',\n",
    "    '70-79 years old',\n",
    "    '80-99 years old'\n",
    "]"
   ]
  },
  {
   "cell_type": "code",
   "execution_count": 4,
   "metadata": {},
   "outputs": [],
   "source": [
    "packages = [\n",
    "    '10 USD/kg x 0.5 kg',\n",
    "    '10 USD/kg x 0.7 kg',\n",
    "    '10 USD/kg x 0.75 kg',\n",
    "    '10 USD/kg x 1 kg',\n",
    "    '10 USD/kg x 1.5 kg',\n",
    "    '10 USD/kg x 15 kg',\n",
    "    '10 USD/kg x 2 kg',\n",
    "    '10 USD/kg x 20 kg',\n",
    "    '10 USD/kg x 5 kg',\n",
    "    '2 USD/kg x 5 kg',\n",
    "    '6 USD/kg x 1 kg',\n",
    "    '6 USD/kg x 1.3 kg',\n",
    "    '6 USD/kg x 2 kg'\n",
    "]"
   ]
  }
 ],
 "metadata": {
  "kernelspec": {
   "display_name": "Python 3",
   "language": "python",
   "name": "python3"
  },
  "language_info": {
   "codemirror_mode": {
    "name": "ipython",
    "version": 3
   },
   "file_extension": ".py",
   "mimetype": "text/x-python",
   "name": "python",
   "nbconvert_exporter": "python",
   "pygments_lexer": "ipython3",
   "version": "3.7.4"
  }
 },
 "nbformat": 4,
 "nbformat_minor": 4
}
