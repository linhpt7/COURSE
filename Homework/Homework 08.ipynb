{
 "cells": [
  {
   "cell_type": "markdown",
   "metadata": {},
   "source": [
    "## Bài 1\n",
    "Đọc file `finance_charts_apple.csv`.\n",
    "1. Format số trong file để hiển thị đúng 2 chữ số thập phân.\n",
    "2. Chuẩn hóa tên cột về dạng viết thường và loại bỏ các tiền tố `\"AAPL.\"`\n",
    "3. Chuẩn hóa cột `date` về định dạng datetime của Pandas."
   ]
  },
  {
   "cell_type": "code",
   "execution_count": null,
   "metadata": {},
   "outputs": [],
   "source": []
  },
  {
   "cell_type": "markdown",
   "metadata": {},
   "source": [
    "## Bài 2\n",
    "Mở file `us_youtube_trending.xlsx`:\n",
    "1. Xóa tất cả bản ghi có giá trị trống (NaN) trong cột `video_id`.\n",
    "2. Hiển thị tất cả dữ liệu trùng lặp trong cột `video_id`.\n",
    "3. Xóa trùng sao cho chỉ giữ lại 1 `video_id` có `trending_date` gần nhất."
   ]
  },
  {
   "cell_type": "code",
   "execution_count": null,
   "metadata": {},
   "outputs": [],
   "source": []
  },
  {
   "cell_type": "markdown",
   "metadata": {},
   "source": [
    "## Bài 3\n",
    "Đọc dữ liệu `temperatures.xlsx` rồi tính nhiệt độ trung bình tháng, tuần của mỗi bang. Quy đổi nhiệt độ trong dataset từ độ F sang độ C bằng công thức: $x^{\\circ}C = (y^{\\circ}F-32) \\times 5/9$"
   ]
  },
  {
   "cell_type": "code",
   "execution_count": null,
   "metadata": {},
   "outputs": [],
   "source": []
  }
 ],
 "metadata": {
  "kernelspec": {
   "display_name": "Python 3",
   "language": "python",
   "name": "python3"
  },
  "language_info": {
   "codemirror_mode": {
    "name": "ipython",
    "version": 3
   },
   "file_extension": ".py",
   "mimetype": "text/x-python",
   "name": "python",
   "nbconvert_exporter": "python",
   "pygments_lexer": "ipython3",
   "version": "3.7.4"
  }
 },
 "nbformat": 4,
 "nbformat_minor": 4
}
