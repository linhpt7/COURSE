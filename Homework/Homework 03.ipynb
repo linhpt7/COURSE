{
 "cells": [
  {
   "cell_type": "markdown",
   "metadata": {},
   "source": [
    "## Bài 1\n",
    "Cho một string chứa các từ sau:\\\n",
    "`'python,matlab,tableau,orange,jupyter,data,statistics,stata,linear algebra'`.\n",
    "\n",
    "Hãy tạo ra string mới sắp xếp theo alphabet.\\\n",
    "Kết quả có dạng: `'data, jupyter, linear algebra,...'`"
   ]
  },
  {
   "cell_type": "code",
   "execution_count": null,
   "metadata": {},
   "outputs": [],
   "source": []
  },
  {
   "cell_type": "markdown",
   "metadata": {},
   "source": [
    "## Bài 2\n",
    "\n",
    "Cho 3 chuỗi dưới đây:\\\n",
    "`'pham quang hung 0123.456.789'`  \n",
    "`'pham_quang_hung 0123456789'`  \n",
    "`'PHAM QUANG HUNG_0123 456 789'`  \n",
    "\n",
    "Viết một script xử lý được cả 3 string trên về định dạng:\\\n",
    "**`'Pham Quang Hung's phone is 0123456789'`**"
   ]
  },
  {
   "cell_type": "code",
   "execution_count": null,
   "metadata": {},
   "outputs": [],
   "source": []
  },
  {
   "cell_type": "markdown",
   "metadata": {},
   "source": [
    "## Bài 3\n",
    "a. In ra tất cả ngày \"Thứ 6 ngày 13\" theo định dạng `YYYY-MM-DD` từ năm 2000 đến năm 2009.\\\n",
    "b. \"Thứ 6 ngày 13\" tiếp theo là ngày nào?"
   ]
  },
  {
   "cell_type": "code",
   "execution_count": null,
   "metadata": {},
   "outputs": [],
   "source": []
  },
  {
   "cell_type": "markdown",
   "metadata": {},
   "source": [
    "## Bài 4\n",
    "In ra tất cả các ngày từ hôm nay đến ngày cuối cùng trong tháng."
   ]
  },
  {
   "cell_type": "code",
   "execution_count": null,
   "metadata": {},
   "outputs": [],
   "source": []
  },
  {
   "cell_type": "markdown",
   "metadata": {},
   "source": [
    "## Bài 5\n",
    "Viết chương trình gán điểm cho mỗi chữ cái trong bảng chữ cái Tiếng Anh. Nếu a,b,c,d,... tương ứng với 1,2,3,4,... thì từ `attitude` sẽ đạt 100 điểm\n",
    "(https://9gag.com/gag/aWWP7bd?ref=fbp)\n",
    "\n",
    "**Gợi ý**:\\\n",
    "`import string`\\\n",
    "`alphabet = list(string.ascii_lowercase)`"
   ]
  },
  {
   "cell_type": "code",
   "execution_count": null,
   "metadata": {},
   "outputs": [],
   "source": []
  }
 ],
 "metadata": {
  "kernelspec": {
   "display_name": "Python 3",
   "language": "python",
   "name": "python3"
  },
  "language_info": {
   "codemirror_mode": {
    "name": "ipython",
    "version": 3
   },
   "file_extension": ".py",
   "mimetype": "text/x-python",
   "name": "python",
   "nbconvert_exporter": "python",
   "pygments_lexer": "ipython3",
   "version": "3.7.3"
  }
 },
 "nbformat": 4,
 "nbformat_minor": 4
}
