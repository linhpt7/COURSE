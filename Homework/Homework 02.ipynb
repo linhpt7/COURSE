{
 "cells": [
  {
   "cell_type": "markdown",
   "metadata": {
    "colab_type": "text",
    "id": "ycqn594RkxMe"
   },
   "source": [
    "## Bài 1\n",
    "Một hộp có $n$ quả cầu trắng và 5 quả cầu đen ($n$ nguyên dương). Lấy ngẫu nhiên lần lượt 2 quả cầu, biết quả đầu tiên màu trắng.\\\n",
    "Viết chương trình liệt kê các xác suất để quả cầu thứ hai là trắng với $n$ chạy từ 1 đến 5."
   ]
  },
  {
   "cell_type": "code",
   "execution_count": null,
   "metadata": {
    "colab": {},
    "colab_type": "code",
    "id": "eCePB3vOkxMf"
   },
   "outputs": [],
   "source": []
  },
  {
   "cell_type": "markdown",
   "metadata": {
    "colab_type": "text",
    "id": "7Uh2QO0ckxMj"
   },
   "source": [
    "## Bài 2\n",
    "Viết chương trình giải phương trình bậc hai: $ax^2 + bx + c = 0$.\\\n",
    "(Làm tròn kết quả với 2 chữ số sau dấu phẩy)"
   ]
  },
  {
   "cell_type": "code",
   "execution_count": null,
   "metadata": {
    "colab": {},
    "colab_type": "code",
    "id": "DOoDf8ArkxMk"
   },
   "outputs": [],
   "source": []
  },
  {
   "cell_type": "markdown",
   "metadata": {
    "colab_type": "text",
    "id": "F5vzZHn8kxMo"
   },
   "source": [
    "## Bài 3\n",
    "Với $x$ và $n$ nguyên cho trước, tính giá trị biểu thức: $S(x,n)=x+x^{3}+x^{5}+...+x^{2n+1}$.\n"
   ]
  },
  {
   "cell_type": "code",
   "execution_count": null,
   "metadata": {
    "colab": {},
    "colab_type": "code",
    "id": "27qU1R7ukxMp"
   },
   "outputs": [],
   "source": []
  },
  {
   "cell_type": "markdown",
   "metadata": {
    "colab_type": "text",
    "id": "WUkYHMCbkxMs"
   },
   "source": [
    "## Bài 4 \n",
    "Viết chương trình nhập vào một số nguyên trong khoảng từ 1 đến 5 từ bàn phím (dùng hàm `input()`). Chương trình sẽ chọn ngẫu nhiên 1 số trong khoảng 1-5, bạn thắng nếu số bạn nhập trùng với số ngẫu nhiên được chọn.\n",
    "\n",
    "**Gợi ý:** Cách chọn ra một số ngẫu nhiên trong khoảng $[1;5]$:\\\n",
    "`import random`\\\n",
    "`result = random.randint(1,5)`"
   ]
  },
  {
   "cell_type": "code",
   "execution_count": null,
   "metadata": {
    "colab": {},
    "colab_type": "code",
    "id": "BBi3f7NkkxMs"
   },
   "outputs": [],
   "source": []
  },
  {
   "cell_type": "markdown",
   "metadata": {
    "colab_type": "text",
    "id": "Pmag_iI6k2HV"
   },
   "source": [
    "## Bài 5\n",
    "Fibonacci là dãy số mà mỗi số bằng tổng của 2 số liền trước nó. 10 số đầu tiên của dãy là: $1, 2, 3, 5, 8, 13, 21, 34, 55, 89,\\dots$\\\n",
    "Hãy tính tổng 20 số đầu tiên trong dãy Fibonacci."
   ]
  },
  {
   "cell_type": "code",
   "execution_count": null,
   "metadata": {
    "colab": {},
    "colab_type": "code",
    "id": "kPtte7uWkxMw"
   },
   "outputs": [],
   "source": []
  }
 ],
 "metadata": {
  "colab": {
   "name": "Homework 02.ipynb",
   "provenance": []
  },
  "kernelspec": {
   "display_name": "Python 3",
   "language": "python",
   "name": "python3"
  },
  "language_info": {
   "codemirror_mode": {
    "name": "ipython",
    "version": 3
   },
   "file_extension": ".py",
   "mimetype": "text/x-python",
   "name": "python",
   "nbconvert_exporter": "python",
   "pygments_lexer": "ipython3",
   "version": "3.7.3"
  }
 },
 "nbformat": 4,
 "nbformat_minor": 4
}
