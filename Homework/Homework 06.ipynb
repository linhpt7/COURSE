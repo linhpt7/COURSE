{
 "cells": [
  {
   "cell_type": "markdown",
   "metadata": {},
   "source": [
    "## Bài 1\n",
    "Cho một array 2 chiều.\n",
    "1. Lấy ra 2 dòng đầu tiên của mảng\n",
    "2. Sửa giá trị các phần tử cột thứ 0, 2, 4 thành 10"
   ]
  },
  {
   "cell_type": "code",
   "execution_count": 31,
   "metadata": {},
   "outputs": [
    {
     "data": {
      "text/plain": [
       "array([[5, 0, 3, 3, 7],\n",
       "       [9, 3, 5, 2, 4],\n",
       "       [7, 6, 8, 8, 1],\n",
       "       [6, 7, 7, 8, 1],\n",
       "       [5, 9, 8, 9, 4]])"
      ]
     },
     "execution_count": 31,
     "metadata": {},
     "output_type": "execute_result"
    }
   ],
   "source": [
    "import numpy as np\n",
    "np.random.seed(0)\n",
    "A = np.random.randint(10, size=(5,5))\n",
    "A"
   ]
  },
  {
   "cell_type": "markdown",
   "metadata": {},
   "source": [
    "## Bài 2\n",
    "Tạo 1 vector ngẫu nhiên chứa 20 phần tử số thập phân, nằm trong khoảng từ -50 đến 50 (dùng `np.random.uniform()`). Hãy làm tròn vector trên về phía 0. Ví dụ: $3.1$ thành $3$, $-5.5$ thành $-5$"
   ]
  },
  {
   "cell_type": "code",
   "execution_count": null,
   "metadata": {},
   "outputs": [],
   "source": []
  },
  {
   "cell_type": "markdown",
   "metadata": {},
   "source": [
    "## Bài 3\n",
    "Tạo vector A ngẫu nhiên kích thước bằng 50 với các phần tử trong khoảng từ -20 đến 20\n",
    "\n",
    "1. Tạo vector B chứa trị tuyệt đối của các phần tử trong vector A\n",
    "2. Chuyển vector B thành ma trận C có kích thước 5x10\n",
    "3. Tìm phần tử lớn nhất, nhỏ nhất của ma trận C\n",
    "4. Tính trung bình, trung vị, phương sai của ma trận C, làm tròn 2 chữ số thập phân.\n",
    "5. Cộng lũy tiến các phần tử trong vector B\n",
    "6. Chuẩn hóa ma trận C bằng cách lấy mỗi phần tử của C trừ đi trung bình rồi chia độ lệch chuẩn."
   ]
  },
  {
   "cell_type": "code",
   "execution_count": null,
   "metadata": {},
   "outputs": [],
   "source": []
  },
  {
   "cell_type": "markdown",
   "metadata": {},
   "source": [
    "## Bài 4\n",
    "Tạo ra 1 ma trận 8x8 với các phần tử 0 và 1 xen kẽ nhau."
   ]
  },
  {
   "cell_type": "code",
   "execution_count": null,
   "metadata": {},
   "outputs": [],
   "source": []
  },
  {
   "cell_type": "markdown",
   "metadata": {},
   "source": [
    "## Bài 5\n",
    "Tạo một vector ngẫu nhiên có kích thước bằng 10 và thay thế phần tử lớn nhất bằng 0."
   ]
  },
  {
   "cell_type": "code",
   "execution_count": null,
   "metadata": {},
   "outputs": [],
   "source": []
  }
 ],
 "metadata": {
  "kernelspec": {
   "display_name": "Python 3",
   "language": "python",
   "name": "python3"
  },
  "language_info": {
   "codemirror_mode": {
    "name": "ipython",
    "version": 3
   },
   "file_extension": ".py",
   "mimetype": "text/x-python",
   "name": "python",
   "nbconvert_exporter": "python",
   "pygments_lexer": "ipython3",
   "version": "3.7.4"
  }
 },
 "nbformat": 4,
 "nbformat_minor": 4
}
